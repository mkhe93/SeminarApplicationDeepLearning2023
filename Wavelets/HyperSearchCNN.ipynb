{
 "cells": [
  {
   "cell_type": "code",
   "execution_count": null,
   "metadata": {
    "collapsed": true
   },
   "outputs": [],
   "source": [
    "# Allows imports from modules in the project directory\n",
    "import os\n",
    "import sys\n",
    "from pathlib import Path\n",
    "\n",
    "CURRENT_DIRECTORY = Path(os.path.abspath('')).resolve()\n",
    "MODULE_DIRECTORY = CURRENT_DIRECTORY.parent\n",
    "PROJECT_DIRECTORY = MODULE_DIRECTORY.parents[1]\n",
    "sys.path.extend([str(MODULE_DIRECTORY)])\n",
    "\n",
    "print(f'Python {sys.version} on {sys.platform}')"
   ]
  },
  {
   "cell_type": "code",
   "execution_count": null,
   "metadata": {
    "collapsed": false
   },
   "outputs": [],
   "source": [
    "import keras_tuner as kt\n",
    "import numpy as np\n",
    "import tensorflow as tf\n",
    "from tensorflow import keras\n",
    "\n",
    "import utilities"
   ]
  },
  {
   "cell_type": "code",
   "execution_count": null,
   "metadata": {
    "collapsed": false
   },
   "outputs": [],
   "source": [
    "# Set parameter\n",
    "LEARNING_RATE = 0.001\n",
    "BATCH_SIZE = 32\n",
    "SHUFFLE_BUFFER_SIZE = 100\n",
    "EPOCHS = 5\n",
    "\n",
    "wavelet_name = 'gaus5'\n",
    "scales = 20"
   ]
  },
  {
   "cell_type": "code",
   "execution_count": null,
   "metadata": {
    "collapsed": false
   },
   "outputs": [],
   "source": [
    "# Load wavelet data\n",
    "train_path = CURRENT_DIRECTORY / f'{wavelet_name}_{scales}/train.npz'\n",
    "test_path = CURRENT_DIRECTORY / f'{wavelet_name}_{scales}/test.npz'\n",
    "\n",
    "train = np.load(train_path)\n",
    "test = np.load(test_path)"
   ]
  },
  {
   "cell_type": "code",
   "execution_count": null,
   "metadata": {
    "collapsed": false
   },
   "outputs": [],
   "source": [
    "# Get the train and test data\n",
    "train_data = train['data']\n",
    "train_labels = train['labels']\n",
    "\n",
    "test_data = test['data']\n",
    "test_labels = test['labels']"
   ]
  },
  {
   "cell_type": "code",
   "execution_count": null,
   "metadata": {
    "collapsed": false
   },
   "outputs": [],
   "source": [
    "# Data generator allows to transform each batch in training and evaluate the test set after each epoche\n",
    "class DataGenerator(utilities.BaseDataGenerator):\n",
    "    # There is no transformation needed, but it is still convenient to use a generator here\n",
    "    # since using a tensorflow dataset would use more memory than is available on my machine\n",
    "    def transform(self, X: np.ndarray) -> np.ndarray:\n",
    "        return X"
   ]
  },
  {
   "cell_type": "code",
   "execution_count": null,
   "metadata": {
    "collapsed": false
   },
   "outputs": [],
   "source": [
    "# Initialize data generators\n",
    "train_generator = DataGenerator(train_data, train_labels, batch_size=BATCH_SIZE)\n",
    "test_generator = DataGenerator(test_data, test_labels, batch_size=BATCH_SIZE)"
   ]
  },
  {
   "cell_type": "code",
   "execution_count": null,
   "metadata": {
    "collapsed": false
   },
   "outputs": [],
   "source": [
    "# Create model\n",
    "def create_model(hp):\n",
    "    model = keras.Sequential(name='cnn_wavelet_model')\n",
    "\n",
    "    for idx in range(4):\n",
    "        model.add(\n",
    "            keras.layers.Conv2D(\n",
    "                filters=hp.Choice(f'layer_{idx}_filters', values=[8, 16, 32, 64, 128]),\n",
    "                kernel_size=hp.Choice(f'layer_{idx}_kernel', values=[3, 4, 5, 6]),\n",
    "                activation='relu')\n",
    "        )\n",
    "        model.add(keras.layers.BatchNormalization())\n",
    "        model.add(\n",
    "            keras.layers.MaxPooling2D(\n",
    "                pool_size=(1, hp.Choice(f'layer_{idx}_pool', values=[2, 3, 4, 5]))\n",
    "            )\n",
    "        )\n",
    "\n",
    "    model.add(keras.layers.Flatten())\n",
    "\n",
    "    model.add(\n",
    "        keras.layers.Dense(\n",
    "            units=hp.Int('dense_units', min_value=32, max_value=512, step=32),\n",
    "            activation='relu'\n",
    "        )\n",
    "    )\n",
    "\n",
    "    if hp.Boolean(\"dropout\"):\n",
    "        model.add(\n",
    "            keras.layers.Dropout(\n",
    "                rate=hp.Float('drop_rate', min_value=0.25, max_value=0.75, step=0.25)\n",
    "            )\n",
    "        )\n",
    "\n",
    "    model.add(keras.layers.Dense(4, activation='softmax'))\n",
    "\n",
    "    model.compile(\n",
    "        optimizer=keras.optimizers.Adam(learning_rate=LEARNING_RATE),\n",
    "        loss='sparse_categorical_crossentropy',\n",
    "        metrics=['accuracy']\n",
    "    )\n",
    "\n",
    "    return model"
   ]
  },
  {
   "cell_type": "code",
   "execution_count": null,
   "metadata": {
    "collapsed": false
   },
   "outputs": [],
   "source": [
    "# Using Hyperband to efficiently get the best result in the search space\n",
    "tuner = kt.Hyperband(\n",
    "    create_model,\n",
    "    objective='val_accuracy',\n",
    "    max_epochs=10,\n",
    "    factor=3,\n",
    "    directory='hyper-search',\n",
    "    project_name='my_cnn_wavelet_search'\n",
    ")"
   ]
  },
  {
   "cell_type": "code",
   "execution_count": null,
   "metadata": {
    "collapsed": false
   },
   "outputs": [],
   "source": [
    "# Stop early if there is no improvement on the validation loss\n",
    "stop_early = tf.keras.callbacks.EarlyStopping(monitor='val_loss', patience=5)\n",
    "\n",
    "# Start search (this may take a very long while)\n",
    "tuner.search(train_generator, epochs=10, callbacks=[stop_early], validation_data=test_generator)"
   ]
  },
  {
   "cell_type": "code",
   "execution_count": null,
   "metadata": {
    "collapsed": false
   },
   "outputs": [],
   "source": [
    "# Print the best hyperparameters\n",
    "best_hps = tuner.get_best_hyperparameters(num_trials=1)[0]\n",
    "print(best_hps.values)"
   ]
  },
  {
   "cell_type": "code",
   "execution_count": null,
   "outputs": [],
   "source": [
    "# The best model could be saved like this:\n",
    "best_model = tuner.get_best_models()[0]\n",
    "best_model.save(CURRENT_DIRECTORY / 'models/my_wavelet_model_name')"
   ],
   "metadata": {
    "collapsed": false
   }
  }
 ],
 "metadata": {
  "kernelspec": {
   "display_name": "Python 3",
   "language": "python",
   "name": "python3"
  },
  "language_info": {
   "codemirror_mode": {
    "name": "ipython",
    "version": 2
   },
   "file_extension": ".py",
   "mimetype": "text/x-python",
   "name": "python",
   "nbconvert_exporter": "python",
   "pygments_lexer": "ipython2",
   "version": "2.7.6"
  }
 },
 "nbformat": 4,
 "nbformat_minor": 0
}
