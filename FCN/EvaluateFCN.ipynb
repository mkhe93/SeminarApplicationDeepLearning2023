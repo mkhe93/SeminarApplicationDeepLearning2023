{
 "cells": [
  {
   "cell_type": "code",
   "metadata": {
    "collapsed": true,
    "ExecuteTime": {
     "end_time": "2025-01-24T12:33:20.115623Z",
     "start_time": "2025-01-24T12:33:20.106875Z"
    }
   },
   "source": [
    "# Allows imports from modules in the project directory\n",
    "import os\n",
    "import sys\n",
    "from pathlib import Path\n",
    "\n",
    "CURRENT_DIRECTORY = Path(os.path.abspath('')).resolve()\n",
    "MODULE_DIRECTORY = CURRENT_DIRECTORY.parent\n",
    "PROJECT_DIRECTORY = MODULE_DIRECTORY.parents[1]\n",
    "sys.path.extend([str(MODULE_DIRECTORY)])\n",
    "\n",
    "print(f'Python {sys.version} on {sys.platform}')"
   ],
   "outputs": [
    {
     "name": "stdout",
     "output_type": "stream",
     "text": [
      "Python 3.9.19 (main, Jul  7 2024, 08:52:44) \n",
      "[Clang 15.0.0 (clang-1500.3.9.4)] on darwin\n"
     ]
    }
   ],
   "execution_count": 1
  },
  {
   "cell_type": "code",
   "metadata": {
    "collapsed": false,
    "ExecuteTime": {
     "end_time": "2025-01-24T12:33:28.357875Z",
     "start_time": "2025-01-24T12:33:21.616684Z"
    }
   },
   "source": [
    "os.environ['TF_CPP_MIN_LOG_LEVEL'] = '2'\n",
    "import matplotlib.pyplot as plt\n",
    "import numpy as np\n",
    "import tensorflow as tf\n",
    "\n",
    "import utilities"
   ],
   "outputs": [],
   "execution_count": 2
  },
  {
   "cell_type": "code",
   "metadata": {
    "collapsed": false,
    "ExecuteTime": {
     "end_time": "2025-01-24T12:33:32.229539Z",
     "start_time": "2025-01-24T12:33:29.567863Z"
    }
   },
   "source": [
    "# Load and split dataset\n",
    "data, labels, fids, velocities, angles = utilities.load_dataset(MODULE_DIRECTORY / 'data/data_adp.pkl')\n",
    "train_idx, test_idx, train_data, test_data = utilities.split_dataset(fids, labels, data, seed=42)\n",
    "test_labels = labels[test_idx]\n",
    "\n",
    "# Normalize dataset\n",
    "utilities.normalize_data(test_data)"
   ],
   "outputs": [],
   "execution_count": 3
  },
  {
   "cell_type": "code",
   "metadata": {
    "collapsed": false,
    "ExecuteTime": {
     "end_time": "2025-01-24T12:33:33.782168Z",
     "start_time": "2025-01-24T12:33:33.777671Z"
    }
   },
   "source": [
    "# Data generator allows to transform each batch in training and evaluate the test set after each epoch\n",
    "class DataGenerator(utilities.BaseDataGenerator):\n",
    "    # Pad each batch to the maximum length\n",
    "    def transform(self, X: list) -> np.ndarray:\n",
    "        maxlength = 0\n",
    "        for item in X:\n",
    "            maxlength = max(maxlength, len(item))\n",
    "\n",
    "        return utilities.pad_data(X, maxlength)"
   ],
   "outputs": [],
   "execution_count": 4
  },
  {
   "cell_type": "code",
   "metadata": {
    "collapsed": false,
    "ExecuteTime": {
     "end_time": "2025-01-24T12:33:35.152054Z",
     "start_time": "2025-01-24T12:33:35.148785Z"
    }
   },
   "source": [
    "# Initialize data generators\n",
    "test_generator = DataGenerator(test_data, test_labels, batch_size=32, shuffle=False)"
   ],
   "outputs": [],
   "execution_count": 5
  },
  {
   "cell_type": "code",
   "metadata": {
    "collapsed": false,
    "ExecuteTime": {
     "end_time": "2025-01-24T12:33:36.621370Z",
     "start_time": "2025-01-24T12:33:35.897931Z"
    }
   },
   "source": [
    "# Load the CNN model\n",
    "model = tf.keras.models.load_model(str(CURRENT_DIRECTORY / 'models/best_fcn'))"
   ],
   "outputs": [],
   "execution_count": 6
  },
  {
   "cell_type": "code",
   "metadata": {
    "collapsed": false,
    "ExecuteTime": {
     "end_time": "2025-01-24T12:33:41.056073Z",
     "start_time": "2025-01-24T12:33:37.825694Z"
    }
   },
   "source": [
    "# Evaluate the model on the test set\n",
    "test_loss, test_acc = model.evaluate(test_generator)\n",
    "print('Test accuracy:', test_acc)"
   ],
   "outputs": [
    {
     "name": "stdout",
     "output_type": "stream",
     "text": [
      "210/210 [==============================] - 3s 14ms/step - loss: 0.0147 - accuracy: 0.9964\n",
      "Test accuracy: 0.9964285492897034\n"
     ]
    }
   ],
   "execution_count": 7
  },
  {
   "cell_type": "code",
   "metadata": {
    "collapsed": false,
    "ExecuteTime": {
     "end_time": "2025-01-24T12:33:55.533472Z",
     "start_time": "2025-01-24T12:33:42.249514Z"
    }
   },
   "source": [
    "# Get the one-hot encoded test labels and create a new generator\n",
    "test_labels = tf.keras.utils.to_categorical(labels[test_idx], 4)\n",
    "generator = DataGenerator(test_data, test_labels, batch_size=1, shuffle=False)\n",
    "\n",
    "onehot_predictions = model.predict(generator)\n",
    "predictions = tf.argmax(onehot_predictions, axis=1)"
   ],
   "outputs": [
    {
     "name": "stdout",
     "output_type": "stream",
     "text": [
      "6747/6747 [==============================] - 11s 2ms/step\n"
     ]
    }
   ],
   "execution_count": 8
  },
  {
   "cell_type": "code",
   "metadata": {
    "collapsed": false,
    "ExecuteTime": {
     "end_time": "2025-01-24T12:36:21.349651Z",
     "start_time": "2025-01-24T12:36:21.343304Z"
    }
   },
   "source": [
    "# Calculate the confusion matrix\n",
    "confusion_matrix = tf.math.confusion_matrix(\n",
    "    labels=labels[test_idx],\n",
    "    predictions=predictions,\n",
    "    num_classes=4,\n",
    ").numpy()\n",
    "\n",
    "print('Confusion Matrix:', confusion_matrix, sep='\\n')"
   ],
   "outputs": [
    {
     "name": "stdout",
     "output_type": "stream",
     "text": [
      "Confusion Matrix:\n",
      "[[ 839    0    0    0]\n",
      " [   2 1575    0    1]\n",
      " [   3    3 2539    2]\n",
      " [   0    7    1 1775]]\n"
     ]
    }
   ],
   "execution_count": 11
  },
  {
   "cell_type": "code",
   "metadata": {
    "collapsed": false,
    "ExecuteTime": {
     "end_time": "2025-01-24T12:36:22.350954Z",
     "start_time": "2025-01-24T12:36:22.115216Z"
    }
   },
   "source": [
    "# Show the confusion matrix\n",
    "plt.matshow(confusion_matrix)\n",
    "plt.title('Confusion matrix')\n",
    "plt.ylabel('Predictions')\n",
    "plt.xlabel('True Labels')\n",
    "plt.colorbar()\n",
    "plt.show()"
   ],
   "outputs": [
    {
     "data": {
      "text/plain": [
       "<Figure size 480x480 with 2 Axes>"
      ],
      "image/png": "[encoded data removed]"
     },
     "metadata": {},
     "output_type": "display_data"
    }
   ],
   "execution_count": 12
  },
  {
   "cell_type": "code",
   "metadata": {
    "collapsed": false,
    "ExecuteTime": {
     "end_time": "2025-01-24T12:36:23.427413Z",
     "start_time": "2025-01-24T12:36:23.423145Z"
    }
   },
   "source": [
    "# Evaluate the MCC on the test set\n",
    "mcc = utilities.matthews_correlation(confusion_matrix)\n",
    "print('MCC:', mcc)"
   ],
   "outputs": [
    {
     "name": "stdout",
     "output_type": "stream",
     "text": [
      "MCC: 0.996078827179672\n"
     ]
    }
   ],
   "execution_count": 13
  },
  {
   "cell_type": "code",
   "metadata": {
    "collapsed": false,
    "ExecuteTime": {
     "end_time": "2025-01-24T12:36:23.876359Z",
     "start_time": "2025-01-24T12:36:23.868118Z"
    }
   },
   "source": [
    "pred = tf.constant(onehot_predictions)\n",
    "true = tf.constant(test_labels)\n",
    "\n",
    "# Evaluate the loss on the test set\n",
    "loss = utilities.weighted_loss(true, pred).numpy()\n",
    "print('Weighted Loss:', loss)"
   ],
   "outputs": [
    {
     "name": "stdout",
     "output_type": "stream",
     "text": [
      "Weighted Loss: 0.02252897\n"
     ]
    }
   ],
   "execution_count": 14
  }
 ],
 "metadata": {
  "kernelspec": {
   "display_name": "Python 3",
   "language": "python",
   "name": "python3"
  },
  "language_info": {
   "codemirror_mode": {
    "name": "ipython",
    "version": 3
   },
   "file_extension": ".py",
   "mimetype": "text/x-python",
   "name": "python",
   "nbconvert_exporter": "python",
   "pygments_lexer": "ipython3",
   "version": "3.9.6"
  }
 },
 "nbformat": 4,
 "nbformat_minor": 0
}
