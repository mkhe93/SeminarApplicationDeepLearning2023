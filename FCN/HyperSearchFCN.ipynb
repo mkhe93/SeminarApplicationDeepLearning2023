{
 "cells": [
  {
   "cell_type": "markdown",
   "metadata": {
    "collapsed": false
   },
   "source": [
    "# Hyperparameter search for FCN"
   ]
  },
  {
   "cell_type": "code",
   "metadata": {
    "collapsed": false
   },
   "source": [
    "# Allows imports from modules in the project directory\n",
    "import os\n",
    "import sys\n",
    "from pathlib import Path\n",
    "\n",
    "CURRENT_DIRECTORY = Path(os.path.abspath('')).resolve()\n",
    "MODULE_DIRECTORY = CURRENT_DIRECTORY.parent\n",
    "PROJECT_DIRECTORY = MODULE_DIRECTORY.parents[1]\n",
    "sys.path.extend([str(MODULE_DIRECTORY)])\n",
    "\n",
    "print(f'Python {sys.version} on {sys.platform}')"
   ],
   "outputs": [],
   "execution_count": null
  },
  {
   "cell_type": "code",
   "metadata": {
    "collapsed": false
   },
   "source": [
    "import keras_tuner as kt\n",
    "import numpy as np\n",
    "import tensorflow as tf\n",
    "from tensorflow import keras\n",
    "\n",
    "import utilities"
   ],
   "outputs": [],
   "execution_count": null
  },
  {
   "cell_type": "code",
   "execution_count": null,
   "metadata": {
    "collapsed": false
   },
   "outputs": [],
   "source": [
    "# Load and split dataset\n",
    "data, labels, fids, velocities, angles = utilities.load_dataset(PROJECT_DIRECTORY / 'data/data_adp.pkl')\n",
    "train_idx, test_idx, train_data, test_data = utilities.split_dataset(fids, labels, data)\n",
    "\n",
    "# Get the corresponding labels\n",
    "train_labels = labels[train_idx]\n",
    "test_labels = labels[test_idx]\n",
    "\n",
    "# Normalize dataset\n",
    "utilities.normalize_data(train_data)\n",
    "utilities.normalize_data(test_data)"
   ]
  },
  {
   "cell_type": "code",
   "execution_count": null,
   "metadata": {
    "collapsed": false
   },
   "outputs": [],
   "source": [
    "# Data generator allows to transform each batch in training and evaluate the test set after each epoche\n",
    "class DataGenerator(utilities.BaseDataGenerator):\n",
    "    # Pad each batch to the maximum length\n",
    "    def transform(self, X: list) -> np.ndarray:\n",
    "        maxlength = 0\n",
    "        for item in X:\n",
    "            maxlength = max(maxlength, len(item))\n",
    "\n",
    "        return utilities.pad_data(X, maxlength)"
   ]
  },
  {
   "cell_type": "code",
   "execution_count": null,
   "metadata": {
    "collapsed": false
   },
   "outputs": [],
   "source": [
    "# Initialize data generators\n",
    "train_generator = DataGenerator(train_data, train_labels, batch_size=32)\n",
    "test_generator = DataGenerator(test_data, test_labels, batch_size=32)"
   ]
  },
  {
   "cell_type": "code",
   "execution_count": 3,
   "metadata": {
    "collapsed": false
   },
   "outputs": [],
   "source": [
    "# Function for creating the different models\n",
    "def create_model(hp):\n",
    "    model = keras.Sequential(name='fcn_model')\n",
    "\n",
    "    model.add(keras.layers.Input(shape=(None, 6)))\n",
    "\n",
    "    for idx in range(3):\n",
    "        model.add(\n",
    "            keras.layers.Conv1D(\n",
    "                filters=hp.Choice(f'layer_{idx}_filters', values=[8, 16, 32, 64, 128]),\n",
    "                kernel_size=hp.Choice(f'layer_{idx}_kernel', values=[3, 4, 5, 6]),\n",
    "                activation='relu',\n",
    "                padding=hp.Choice(f'layer_{idx}_padding', values=['same', 'valid', 'causal'])\n",
    "            )\n",
    "        )\n",
    "        model.add(keras.layers.BatchNormalization())\n",
    "        model.add(\n",
    "            keras.layers.MaxPooling1D(\n",
    "                pool_size=hp.Choice(f'layer_{idx}_pool', values=[2, 3, 4, 5])\n",
    "            )\n",
    "        )\n",
    "\n",
    "    model.add(keras.layers.GlobalAveragePooling1D())\n",
    "\n",
    "    model.add(keras.layers.Dense(\n",
    "        units=hp.Choice(f'dense_units', values=[8, 16, 32, 64]),\n",
    "        activation='sigmoid')\n",
    "    )\n",
    "    model.add(keras.layers.Dense(4, activation='softmax'))\n",
    "\n",
    "    model.compile(\n",
    "        optimizer=keras.optimizers.Adam(learning_rate=0.001),\n",
    "        loss='sparse_categorical_crossentropy',\n",
    "        metrics=['accuracy']\n",
    "    )\n",
    "\n",
    "    return model"
   ]
  },
  {
   "cell_type": "code",
   "execution_count": 4,
   "metadata": {
    "collapsed": false
   },
   "outputs": [],
   "source": [
    "# Using Hyperband to efficiently get the best result in the search space\n",
    "tuner = kt.Hyperband(\n",
    "    create_model,\n",
    "    objective='val_accuracy',\n",
    "    max_epochs=10,\n",
    "    factor=4,\n",
    "    directory='hyper-search',\n",
    "    project_name='my_fcn_search'\n",
    ")"
   ]
  },
  {
   "cell_type": "code",
   "execution_count": null,
   "metadata": {
    "collapsed": false
   },
   "outputs": [],
   "source": [
    "# Stop early if there is no improvement on the validation loss\n",
    "stop_early = tf.keras.callbacks.EarlyStopping(monitor='val_loss', patience=5)\n",
    "\n",
    "# Start search (this may take a very long while)\n",
    "tuner.search(train_generator, epochs=10, callbacks=[stop_early], validation_data=test_generator)"
   ]
  },
  {
   "cell_type": "code",
   "execution_count": null,
   "metadata": {
    "collapsed": false
   },
   "outputs": [],
   "source": [
    "# Print the best hyperparameters\n",
    "best_hps = tuner.get_best_hyperparameters(num_trials=1)[0]\n",
    "print(best_hps.values)"
   ]
  },
  {
   "cell_type": "code",
   "execution_count": null,
   "metadata": {
    "collapsed": false
   },
   "outputs": [],
   "source": [
    "# The best model could be saved like this:\n",
    "best_model = tuner.get_best_models()[0]\n",
    "best_model.save(CURRENT_DIRECTORY / 'models/my_fcn_model_name')"
   ]
  }
 ],
 "metadata": {
  "kernelspec": {
   "display_name": "Python 3",
   "language": "python",
   "name": "python3"
  },
  "language_info": {
   "codemirror_mode": {
    "name": "ipython",
    "version": 3
   },
   "file_extension": ".py",
   "mimetype": "text/x-python",
   "name": "python",
   "nbconvert_exporter": "python",
   "pygments_lexer": "ipython3",
   "version": "3.9.13"
  }
 },
 "nbformat": 4,
 "nbformat_minor": 0
}
