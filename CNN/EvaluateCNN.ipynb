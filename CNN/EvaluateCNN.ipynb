{
 "cells": [
  {
   "cell_type": "code",
   "metadata": {
    "collapsed": true,
    "ExecuteTime": {
     "end_time": "2025-01-24T10:54:28.637711Z",
     "start_time": "2025-01-24T10:54:28.627312Z"
    }
   },
   "source": [
    "# Allows imports from modules in the project directory\n",
    "import os\n",
    "import sys\n",
    "from pathlib import Path\n",
    "\n",
    "CURRENT_DIRECTORY = Path(os.path.abspath('')).resolve()\n",
    "MODULE_DIRECTORY = CURRENT_DIRECTORY.parent\n",
    "PROJECT_DIRECTORY = MODULE_DIRECTORY.parents[1]\n",
    "sys.path.extend([str(MODULE_DIRECTORY)])\n",
    "\n",
    "print(f'Python {sys.version} on {sys.platform}')"
   ],
   "outputs": [
    {
     "name": "stdout",
     "output_type": "stream",
     "text": [
      "Python 3.9.19 (main, Jul  7 2024, 08:52:44) \n",
      "[Clang 15.0.0 (clang-1500.3.9.4)] on darwin\n"
     ]
    }
   ],
   "execution_count": 1
  },
  {
   "cell_type": "code",
   "source": [
    "os.environ['TF_CPP_MIN_LOG_LEVEL'] = '2'\n",
    "import matplotlib.pyplot as plt\n",
    "import numpy as np\n",
    "import tensorflow as tf\n",
    "\n",
    "import utilities"
   ],
   "metadata": {
    "collapsed": false,
    "ExecuteTime": {
     "end_time": "2025-01-24T10:54:34.220528Z",
     "start_time": "2025-01-24T10:54:28.956992Z"
    }
   },
   "outputs": [],
   "execution_count": 2
  },
  {
   "cell_type": "code",
   "source": [
    "# Load and split dataset\n",
    "data, labels, fids, velocities, angles = utilities.load_dataset(MODULE_DIRECTORY / 'data/data_adp.pkl')\n",
    "train_idx, test_idx, train_data, test_data = utilities.split_dataset(fids, labels, data, seed=42)\n",
    "test_labels = labels[test_idx]\n",
    "\n",
    "# Normalize dataset\n",
    "utilities.normalize_data(test_data)\n",
    "\n",
    "# Pad data to equal length\n",
    "test_data = utilities.pad_data(test_data, 4200)"
   ],
   "metadata": {
    "collapsed": false,
    "ExecuteTime": {
     "end_time": "2025-01-24T10:54:36.896381Z",
     "start_time": "2025-01-24T10:54:34.225028Z"
    }
   },
   "outputs": [],
   "execution_count": 3
  },
  {
   "cell_type": "code",
   "source": [
    "# Data generator allows to transform each batch in training and evaluate the test set after each epoch\n",
    "class DataGenerator(utilities.BaseDataGenerator):\n",
    "    def transform(self, X: np.ndarray) -> np.ndarray:\n",
    "        return X"
   ],
   "metadata": {
    "collapsed": false,
    "ExecuteTime": {
     "end_time": "2025-01-24T10:54:36.923392Z",
     "start_time": "2025-01-24T10:54:36.919218Z"
    }
   },
   "outputs": [],
   "execution_count": 4
  },
  {
   "cell_type": "code",
   "source": [
    "# Initialize data generator\n",
    "test_generator = DataGenerator(test_data, test_labels, batch_size=32)"
   ],
   "metadata": {
    "collapsed": false,
    "ExecuteTime": {
     "end_time": "2025-01-24T10:54:36.949133Z",
     "start_time": "2025-01-24T10:54:36.946315Z"
    }
   },
   "outputs": [],
   "execution_count": 5
  },
  {
   "cell_type": "code",
   "source": [
    "# Load the CNN model\n",
    "model = tf.keras.models.load_model(str(CURRENT_DIRECTORY / 'models/best_cnn'))"
   ],
   "metadata": {
    "collapsed": false,
    "ExecuteTime": {
     "end_time": "2025-01-24T10:54:37.583606Z",
     "start_time": "2025-01-24T10:54:36.971442Z"
    }
   },
   "outputs": [],
   "execution_count": 6
  },
  {
   "cell_type": "code",
   "source": [
    "# Evaluate the model on the test set\n",
    "test_loss, test_acc = model.evaluate(test_generator)\n",
    "print('Test accuracy:', test_acc)"
   ],
   "metadata": {
    "collapsed": false,
    "ExecuteTime": {
     "end_time": "2025-01-24T10:55:13.314695Z",
     "start_time": "2025-01-24T10:54:37.607067Z"
    }
   },
   "outputs": [
    {
     "name": "stdout",
     "output_type": "stream",
     "text": [
      "210/210 [==============================] - 36s 168ms/step - loss: 0.1093 - accuracy: 0.9661\n",
      "Test accuracy: 0.9660714268684387\n"
     ]
    }
   ],
   "execution_count": 7
  },
  {
   "cell_type": "code",
   "source": [
    "# Get the one-hot encoded test labels and create a new generator\n",
    "test_labels = tf.keras.utils.to_categorical(labels[test_idx], 4)\n",
    "generator = DataGenerator(test_data, test_labels, batch_size=1, shuffle=False)\n",
    "\n",
    "onehot_predictions = model.predict(generator)\n",
    "predictions = tf.argmax(onehot_predictions, axis=1)"
   ],
   "metadata": {
    "collapsed": false,
    "ExecuteTime": {
     "end_time": "2025-01-24T10:56:01.133604Z",
     "start_time": "2025-01-24T10:55:13.339783Z"
    }
   },
   "outputs": [
    {
     "name": "stdout",
     "output_type": "stream",
     "text": [
      "6747/6747 [==============================] - 46s 7ms/step\n"
     ]
    }
   ],
   "execution_count": 8
  },
  {
   "cell_type": "code",
   "source": [
    "# Calculate the confusion matrix\n",
    "confusion_matrix = tf.math.confusion_matrix(\n",
    "    labels=labels[test_idx],\n",
    "    predictions=predictions,\n",
    "    num_classes=4,\n",
    ").numpy()\n",
    "\n",
    "print('Confusion Matrix:', confusion_matrix, sep='\\n')"
   ],
   "metadata": {
    "collapsed": false,
    "ExecuteTime": {
     "end_time": "2025-01-24T10:56:01.168361Z",
     "start_time": "2025-01-24T10:56:01.156817Z"
    }
   },
   "outputs": [
    {
     "name": "stdout",
     "output_type": "stream",
     "text": [
      "Confusion Matrix:\n",
      "[[ 800    0   39    0]\n",
      " [   4 1545    0   29]\n",
      " [ 112    0 2422   13]\n",
      " [   0    2   30 1751]]\n"
     ]
    }
   ],
   "execution_count": 9
  },
  {
   "cell_type": "code",
   "source": [
    "# Show the confusion matrix\n",
    "plt.matshow(confusion_matrix)\n",
    "plt.title('Confusion matrix')\n",
    "plt.ylabel('Predictions')\n",
    "plt.xlabel('True Labels')\n",
    "plt.colorbar()\n",
    "plt.show()"
   ],
   "metadata": {
    "collapsed": false,
    "ExecuteTime": {
     "end_time": "2025-01-24T10:56:01.491064Z",
     "start_time": "2025-01-24T10:56:01.235641Z"
    }
   },
   "outputs": [
    {
     "data": {
      "text/plain": [
       "<Figure size 480x480 with 2 Axes>"
      ],
      "image/png": "[encoded data removed]"
     },
     "metadata": {},
     "output_type": "display_data"
    }
   ],
   "execution_count": 10
  },
  {
   "cell_type": "code",
   "source": [
    "# Evaluate the MCC on the test set\n",
    "mcc = utilities.matthews_correlation(confusion_matrix)\n",
    "print('MCC:', mcc)"
   ],
   "metadata": {
    "collapsed": false,
    "ExecuteTime": {
     "end_time": "2025-01-24T10:56:01.519775Z",
     "start_time": "2025-01-24T10:56:01.516405Z"
    }
   },
   "outputs": [
    {
     "name": "stdout",
     "output_type": "stream",
     "text": [
      "MCC: 0.9530045223278296\n"
     ]
    }
   ],
   "execution_count": 11
  },
  {
   "cell_type": "code",
   "source": [
    "pred = tf.constant(onehot_predictions)\n",
    "true = tf.constant(test_labels)\n",
    "\n",
    "# Evaluate the loss on the test set\n",
    "loss = utilities.weighted_loss(true, pred).numpy()\n",
    "print('Weighted Loss:', loss)"
   ],
   "metadata": {
    "collapsed": false,
    "ExecuteTime": {
     "end_time": "2025-01-24T10:56:01.552160Z",
     "start_time": "2025-01-24T10:56:01.543898Z"
    }
   },
   "outputs": [
    {
     "name": "stdout",
     "output_type": "stream",
     "text": [
      "Weighted Loss: 0.1238157\n"
     ]
    }
   ],
   "execution_count": 12
  }
 ],
 "metadata": {
  "kernelspec": {
   "display_name": "Python 3",
   "language": "python",
   "name": "python3"
  },
  "language_info": {
   "codemirror_mode": {
    "name": "ipython",
    "version": 2
   },
   "file_extension": ".py",
   "mimetype": "text/x-python",
   "name": "python",
   "nbconvert_exporter": "python",
   "pygments_lexer": "ipython2",
   "version": "2.7.6"
  }
 },
 "nbformat": 4,
 "nbformat_minor": 0
}
