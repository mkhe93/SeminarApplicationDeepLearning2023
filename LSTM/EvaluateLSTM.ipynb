{
 "cells": [
  {
   "attachments": {},
   "cell_type": "markdown",
   "metadata": {},
   "source": [
    "## Evaluation of the best two Models\n",
    "\n",
    "1. 3-Conv-Layer mit 256 Sampling-Size\n",
    "2. 2-Conv-Layer mit 128 Sampling-Size"
   ]
  },
  {
   "cell_type": "code",
   "metadata": {
    "ExecuteTime": {
     "end_time": "2025-01-24T12:38:14.036449Z",
     "start_time": "2025-01-24T12:38:14.031240Z"
    }
   },
   "source": [
    "# Allows imports from modules in the project directory\n",
    "import os\n",
    "import sys\n",
    "from pathlib import Path\n",
    "\n",
    "CURRENT_DIRECTORY = Path(os.path.abspath('')).resolve()\n",
    "MODULE_DIRECTORY = CURRENT_DIRECTORY.parent\n",
    "PROJECT_DIRECTORY = MODULE_DIRECTORY.parents[1]\n",
    "sys.path.extend([str(MODULE_DIRECTORY)])\n",
    "\n",
    "print(f'Python {sys.version} on {sys.platform}')"
   ],
   "outputs": [
    {
     "name": "stdout",
     "output_type": "stream",
     "text": [
      "Python 3.9.19 (main, Jul  7 2024, 08:52:44) \n",
      "[Clang 15.0.0 (clang-1500.3.9.4)] on darwin\n"
     ]
    }
   ],
   "execution_count": 9
  },
  {
   "cell_type": "code",
   "metadata": {
    "ExecuteTime": {
     "end_time": "2025-01-24T12:38:49.299459Z",
     "start_time": "2025-01-24T12:38:49.295942Z"
    }
   },
   "source": [
    "os.environ['TF_CPP_MIN_LOG_LEVEL'] = '2'\n",
    "import matplotlib.pyplot as plt\n",
    "import tensorflow as tf\n",
    "import numpy as np\n",
    "import copy\n",
    "\n",
    "import utilities"
   ],
   "outputs": [],
   "execution_count": 17
  },
  {
   "cell_type": "code",
   "metadata": {
    "ExecuteTime": {
     "end_time": "2025-01-24T12:38:14.859911Z",
     "start_time": "2025-01-24T12:38:14.856069Z"
    }
   },
   "source": [
    "class DataGenerator(utilities.BaseDataGenerator):\n",
    "    def transform(self, X: list) -> np.ndarray:\n",
    "        return X"
   ],
   "outputs": [],
   "execution_count": 11
  },
  {
   "cell_type": "code",
   "metadata": {
    "ExecuteTime": {
     "end_time": "2025-01-24T12:38:24.094089Z",
     "start_time": "2025-01-24T12:38:15.249676Z"
    }
   },
   "source": [
    "# Load and split dataset\n",
    "data, labels, fids, velocities, angles = utilities.load_dataset(MODULE_DIRECTORY / 'data/data_adp.pkl')\n",
    "train_idx, test_idx, train_data, test_data = utilities.split_dataset(fids, labels, data, seed=42)\n",
    "\n",
    "utilities.compress_data(train_data, 128)\n",
    "utilities.compress_data(test_data, 128)\n",
    "\n",
    "test_labels = labels[test_idx]\n",
    "train_labels = labels[train_idx]\n",
    "\n",
    "# Empty\n",
    "del data"
   ],
   "outputs": [],
   "execution_count": 12
  },
  {
   "cell_type": "code",
   "metadata": {
    "ExecuteTime": {
     "end_time": "2025-01-24T12:38:27.309799Z",
     "start_time": "2025-01-24T12:38:27.278463Z"
    }
   },
   "source": [
    "# Labels need to be one-hot encoded for the metrics (and loss function) to work\n",
    "test_labels = tf.keras.utils.to_categorical(labels[test_idx], 4)\n",
    "train_labels = tf.keras.utils.to_categorical(labels[train_idx], 4)"
   ],
   "outputs": [],
   "execution_count": 13
  },
  {
   "cell_type": "code",
   "metadata": {
    "ExecuteTime": {
     "end_time": "2025-01-24T12:38:28.278766Z",
     "start_time": "2025-01-24T12:38:28.040432Z"
    }
   },
   "source": [
    "# Merge inputs and targets\n",
    "inputs = np.concatenate((train_data, test_data), axis=0)\n",
    "targets = np.concatenate((train_labels, test_labels), axis=0)"
   ],
   "outputs": [],
   "execution_count": 14
  },
  {
   "cell_type": "code",
   "metadata": {
    "ExecuteTime": {
     "end_time": "2025-01-24T12:38:38.068624Z",
     "start_time": "2025-01-24T12:38:38.065723Z"
    }
   },
   "source": [
    "# Initialize data generators\n",
    "generator = DataGenerator(inputs, targets, batch_size=1, shuffle=False)"
   ],
   "outputs": [],
   "execution_count": 15
  },
  {
   "cell_type": "code",
   "metadata": {
    "ExecuteTime": {
     "end_time": "2025-01-24T12:39:03.144788Z",
     "start_time": "2025-01-24T12:38:52.298306Z"
    }
   },
   "source": [
    "# Data generator allows to transform each batch in training and evaluate the test set after each epoche\n",
    "COMPRESSION_SIZE = [128, 256]\n",
    "for comp_size in COMPRESSION_SIZE:\n",
    "\n",
    "    train_data_temp = copy.deepcopy(train_data)\n",
    "    test_data_temp = copy.deepcopy(test_data)\n",
    "\n",
    "    # Pad each batch to the comp_size\n",
    "    utilities.compress_data(train_data_temp, comp_size)\n",
    "    utilities.compress_data(test_data_temp, comp_size)\n",
    "\n",
    "    if comp_size == 128:\n",
    "        test_generator128 = DataGenerator(test_data_temp, test_labels, batch_size=1, shuffle=False)\n",
    "\n",
    "    elif comp_size == 256:\n",
    "        test_generator256 = DataGenerator(test_data_temp, test_labels, batch_size=1, shuffle=False)"
   ],
   "outputs": [],
   "execution_count": 18
  },
  {
   "cell_type": "code",
   "metadata": {
    "ExecuteTime": {
     "end_time": "2025-01-24T12:39:47.187314Z",
     "start_time": "2025-01-24T12:39:44.129185Z"
    }
   },
   "source": [
    "# Load the LSTM models\n",
    "best_model128 = tf.keras.models.load_model(MODULE_DIRECTORY / 'LSTM/models/bestconvlstm128')\n",
    "best_model256 = tf.keras.models.load_model(MODULE_DIRECTORY / 'LSTM/models/bestconvlstm256')"
   ],
   "outputs": [],
   "execution_count": 21
  },
  {
   "metadata": {
    "ExecuteTime": {
     "end_time": "2025-01-24T12:46:09.533779Z",
     "start_time": "2025-01-24T12:45:58.119237Z"
    }
   },
   "cell_type": "code",
   "source": [
    "# Evaluate the model on the test set\n",
    "loss, test_acc, weighted_loss = best_model128.evaluate(test_generator128)\n",
    "print('Test accuracy:', test_acc)"
   ],
   "outputs": [
    {
     "name": "stdout",
     "output_type": "stream",
     "text": [
      "6747/6747 [==============================] - 11s 2ms/step - loss: 0.0000e+00 - accuracy: 0.9890 - weighted_loss: 0.0756\n",
      "Test accuracy: 0.9890321493148804\n"
     ]
    }
   ],
   "execution_count": 35
  },
  {
   "metadata": {
    "ExecuteTime": {
     "end_time": "2025-01-24T12:46:28.548841Z",
     "start_time": "2025-01-24T12:46:09.602962Z"
    }
   },
   "cell_type": "code",
   "source": [
    "# Evaluate the model on the test set\n",
    "loss, test_acc, weighted_loss = best_model256.evaluate(test_generator256)\n",
    "print('Test accuracy:', test_acc)"
   ],
   "outputs": [
    {
     "name": "stdout",
     "output_type": "stream",
     "text": [
      "6747/6747 [==============================] - 19s 3ms/step - loss: 0.0000e+00 - accuracy: 0.9687 - weighted_loss: 0.1304\n",
      "Test accuracy: 0.9687268137931824\n"
     ]
    }
   ],
   "execution_count": 36
  },
  {
   "cell_type": "code",
   "metadata": {
    "ExecuteTime": {
     "end_time": "2025-01-24T12:46:33.947996Z",
     "start_time": "2025-01-24T12:46:33.932219Z"
    }
   },
   "source": [
    "# Kompiliere das Modell, um gewünschte Metriken zu nutzen\n",
    "best_model128.compile(metrics=['accuracy', utilities.weighted_loss])\n",
    "best_model256.compile(metrics=['accuracy', utilities.weighted_loss])"
   ],
   "outputs": [],
   "execution_count": 37
  },
  {
   "cell_type": "code",
   "metadata": {
    "ExecuteTime": {
     "end_time": "2025-01-24T12:46:46.877952Z",
     "start_time": "2025-01-24T12:46:34.377298Z"
    }
   },
   "source": [
    "# Predict the labels on the test dataset (this may take a while)\n",
    "onehot_predictions_128 = best_model128.predict(test_generator128)\n",
    "predictions_128 = tf.argmax(onehot_predictions_128, axis=1)"
   ],
   "outputs": [
    {
     "name": "stdout",
     "output_type": "stream",
     "text": [
      "6747/6747 [==============================] - 11s 2ms/step\n"
     ]
    }
   ],
   "execution_count": 38
  },
  {
   "cell_type": "code",
   "metadata": {
    "ExecuteTime": {
     "end_time": "2025-01-24T12:47:06.070406Z",
     "start_time": "2025-01-24T12:46:46.884497Z"
    }
   },
   "source": [
    "# Predict the labels on the test dataset (this may take a while)\n",
    "onehot_predictions_256 = best_model256.predict(test_generator256)\n",
    "predictions_256 = tf.argmax(onehot_predictions_256, axis=1)"
   ],
   "outputs": [
    {
     "name": "stdout",
     "output_type": "stream",
     "text": [
      "6747/6747 [==============================] - 18s 3ms/step\n"
     ]
    }
   ],
   "execution_count": 39
  },
  {
   "cell_type": "code",
   "metadata": {
    "ExecuteTime": {
     "end_time": "2025-01-24T12:47:06.767998Z",
     "start_time": "2025-01-24T12:47:06.761362Z"
    }
   },
   "source": [
    "# Calculate the confusion matrix\n",
    "confusion_matrix_128 = tf.math.confusion_matrix(\n",
    "    labels=labels[test_idx],\n",
    "    predictions=predictions_128,\n",
    "    num_classes=4,\n",
    ").numpy()\n",
    "\n",
    "print('Confusion Matrix 128:', confusion_matrix_128, sep='\\n')"
   ],
   "outputs": [
    {
     "name": "stdout",
     "output_type": "stream",
     "text": [
      "Confusion Matrix 128:\n",
      "[[ 831    3    5    0]\n",
      " [   0 1546    1   31]\n",
      " [   1    2 2533   11]\n",
      " [   0   12    8 1763]]\n"
     ]
    }
   ],
   "execution_count": 40
  },
  {
   "cell_type": "code",
   "metadata": {
    "ExecuteTime": {
     "end_time": "2025-01-24T12:47:07.558094Z",
     "start_time": "2025-01-24T12:47:07.551409Z"
    }
   },
   "source": [
    "# Calculate the confusion matrix\n",
    "confusion_matrix_256 = tf.math.confusion_matrix(\n",
    "    labels=labels[test_idx],\n",
    "    predictions=predictions_256,\n",
    "    num_classes=4,\n",
    ").numpy()\n",
    "\n",
    "print('Confusion Matrix 256:', confusion_matrix_256, sep='\\n')"
   ],
   "outputs": [
    {
     "name": "stdout",
     "output_type": "stream",
     "text": [
      "Confusion Matrix 256:\n",
      "[[ 829    4    6    0]\n",
      " [   1 1564    2   11]\n",
      " [  41   16 2429   61]\n",
      " [   0   46   23 1714]]\n"
     ]
    }
   ],
   "execution_count": 41
  },
  {
   "cell_type": "code",
   "metadata": {
    "ExecuteTime": {
     "end_time": "2025-01-24T12:47:11.547450Z",
     "start_time": "2025-01-24T12:47:10.841583Z"
    }
   },
   "source": [
    "# Show the confusion matrix\n",
    "fig, (ax1, ax2) = plt.subplots(1, 2, figsize=(25, 8))\n",
    "\n",
    "im1 = ax1.matshow(confusion_matrix_128)\n",
    "ax1.set(title='Confusion Matrix 128')\n",
    "ax1.set(ylabel='Predictions')\n",
    "ax1.set(xlabel='True Labels')\n",
    "fig.colorbar(im1, ax=ax1)\n",
    "\n",
    "im2 = ax2.matshow(confusion_matrix_256)\n",
    "ax2.set(title='Confusion Matrix 256')\n",
    "ax2.set(ylabel='Predictions')\n",
    "ax2.set(xlabel='True Labels')\n",
    "fig.colorbar(im2, ax=ax2)\n",
    "\n",
    "fig.suptitle(\"Compare Confusion Matrices\")"
   ],
   "outputs": [
    {
     "data": {
      "text/plain": [
       "Text(0.5, 0.98, 'Compare Confusion Matrices')"
      ]
     },
     "execution_count": 42,
     "metadata": {},
     "output_type": "execute_result"
    },
    {
     "data": {
      "text/plain": [
       "<Figure size 2500x800 with 4 Axes>"
      ],
      "image/png": "[encoded data removed]"
     },
     "metadata": {},
     "output_type": "display_data"
    }
   ],
   "execution_count": 42
  },
  {
   "cell_type": "code",
   "metadata": {
    "ExecuteTime": {
     "end_time": "2025-01-24T12:47:13.614220Z",
     "start_time": "2025-01-24T12:47:13.610114Z"
    }
   },
   "source": [
    "# Evaluate the MCC on the test set\n",
    "mcc128 = utilities.matthews_correlation(confusion_matrix_128)\n",
    "mcc256 = utilities.matthews_correlation(confusion_matrix_256)\n",
    "print('MCC 128:', mcc128)\n",
    "print('MCC 256:', mcc256)"
   ],
   "outputs": [
    {
     "name": "stdout",
     "output_type": "stream",
     "text": [
      "MCC 128: 0.9847206017153397\n",
      "MCC 256: 0.956725690421041\n"
     ]
    }
   ],
   "execution_count": 43
  },
  {
   "cell_type": "code",
   "metadata": {
    "ExecuteTime": {
     "end_time": "2025-01-24T12:48:16.584336Z",
     "start_time": "2025-01-24T12:48:16.577631Z"
    }
   },
   "source": [
    "# Convert to tensors\n",
    "pred128 = tf.constant(onehot_predictions_128)\n",
    "pred256 = tf.constant(onehot_predictions_256)\n",
    "true = tf.constant(test_labels)\n",
    "\n",
    "# Evaluate the loss on the test set\n",
    "loss128 = utilities.weighted_loss(true, pred128).numpy()\n",
    "loss256 = utilities.weighted_loss(true, pred256).numpy()\n",
    "print('Loss 128:', loss128)\n",
    "print('Loss 256:', loss256)"
   ],
   "outputs": [
    {
     "name": "stdout",
     "output_type": "stream",
     "text": [
      "Loss 128: 0.07559045\n",
      "Loss 256: 0.13043104\n"
     ]
    }
   ],
   "execution_count": 47
  }
 ],
 "metadata": {
  "kernelspec": {
   "display_name": ".venv",
   "language": "python",
   "name": "python3"
  },
  "language_info": {
   "codemirror_mode": {
    "name": "ipython",
    "version": 3
   },
   "file_extension": ".py",
   "mimetype": "text/x-python",
   "name": "python",
   "nbconvert_exporter": "python",
   "pygments_lexer": "ipython3",
   "version": "3.9.13"
  },
  "orig_nbformat": 4
 },
 "nbformat": 4,
 "nbformat_minor": 2
}
